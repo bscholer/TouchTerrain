{
  "cells": [
    {
      "cell_type": "markdown",
      "metadata": {
        "id": "view-in-github",
        "colab_type": "text"
      },
      "source": [
        "<a href=\"https://colab.research.google.com/github/bscholer/TouchTerrain/blob/bscholer%2Fcolab/usa_terrain_with_interstates_colab.ipynb\" target=\"_parent\"><img src=\"https://colab.research.google.com/assets/colab-badge.svg\" alt=\"Open In Colab\"/></a>"
      ]
    },
    {
      "cell_type": "markdown",
      "metadata": {
        "id": "gjqE-6zA-yDV"
      },
      "source": [
        "# TouchTerrain jupyter notebook - starter edition, running on Colab\n",
        "Chris Harding, Dec. 15, 2022 (<charding@iastate.edu>)\n",
        "\n",
        "Warning: This is still being tested, especially the Earth Engine Authorization process! Please report bugs to me.\n",
        "\n",
        "- This particular notebook is meant to only be run on Colab. If you're currently NOT running it inside colab, click on this badge: [![Open In Colab](https://colab.research.google.com/assets/colab-badge.svg)](http://colab.research.google.com/github/ChHarding/TouchTerrain_for_CAGEO/blob/master/TouchTerrain_jupyter_starters_colab.ipynb)\n"
      ]
    },
    {
      "cell_type": "markdown",
      "metadata": {
        "id": "w0CcgEqN-cMz"
      },
      "source": [
        "### How to run code inside a notebook\n",
        "\n",
        "- The grey \"window\" below (with [] in the upper left corner) is a *code* cell.\n",
        "- Hovering over the cell will show a circular \"play button\". CLick on it to run the cell's code.\n",
        "- Later, you will need to edit the Python code in a cell. For this, click inside the cell (will show a cursor) and make you edits. You can run an edited cell by pressing Shift + Enter.\n",
        "- You won't see any output for this particular cell but you'll see that the braces in `[ ]` will show a sequential number, which means it's been run. Usually code cells will produce some output, typically text.\n",
        "- Note: the first few cells start with a ! and actually run OS shell commands (like pip) to install things\n",
        "- Lines starting with # contain so-called comments (more about these later) which are only meant to give information to you. Please read them and follow any instructions given!\n",
        "- If you got this notebook from my github repo, you will get a __warning__ when running the first cell - click Run Anyway to continue.\n",
        "- Note that if you're planning to save any edits you're making to a from-github notebook, you should save this notebook now to your own google drive (*File - Save a copy in Drive*), otherwise edits will be lost once you close this browser tab. To later come back and run your edited copy, go to __https://colab.research.google.com/__, click on __Google Drive__ and then on your notebook."
      ]
    },
    {
      "cell_type": "code",
      "execution_count": 1,
      "metadata": {
        "id": "I7HX8VovSTwP",
        "colab": {
          "base_uri": "https://localhost:8080/"
        },
        "outputId": "0d001ce2-cb00-48f5-9ed7-6e5bdf93d3c7"
      },
      "outputs": [
        {
          "output_type": "stream",
          "name": "stdout",
          "text": [
            "\u001b[?25l   \u001b[90m━━━━━━━━━━━━━━━━━━━━━━━━━━━━━━━━━━━━━━━━\u001b[0m \u001b[32m0.0/1.6 MB\u001b[0m \u001b[31m?\u001b[0m eta \u001b[36m-:--:--\u001b[0m\r\u001b[2K   \u001b[91m━━━━━━━━━━━━━━━\u001b[0m\u001b[91m╸\u001b[0m\u001b[90m━━━━━━━━━━━━━━━━━━━━━━━━\u001b[0m \u001b[32m0.6/1.6 MB\u001b[0m \u001b[31m19.0 MB/s\u001b[0m eta \u001b[36m0:00:01\u001b[0m\r\u001b[2K   \u001b[91m━━━━━━━━━━━━━━━━━━━━━━━━━━━━━━━━━━━━━━━\u001b[0m\u001b[91m╸\u001b[0m \u001b[32m1.6/1.6 MB\u001b[0m \u001b[31m22.8 MB/s\u001b[0m eta \u001b[36m0:00:01\u001b[0m\r\u001b[2K   \u001b[91m━━━━━━━━━━━━━━━━━━━━━━━━━━━━━━━━━━━━━━━\u001b[0m\u001b[91m╸\u001b[0m \u001b[32m1.6/1.6 MB\u001b[0m \u001b[31m22.8 MB/s\u001b[0m eta \u001b[36m0:00:01\u001b[0m\r\u001b[2K   \u001b[90m━━━━━━━━━━━━━━━━━━━━━━━━━━━━━━━━━━━━━━━━\u001b[0m \u001b[32m1.6/1.6 MB\u001b[0m \u001b[31m14.0 MB/s\u001b[0m eta \u001b[36m0:00:00\u001b[0m\n",
            "\u001b[?25h"
          ]
        }
      ],
      "source": [
        "# The following pip commands all have -q (quiet) at the end which hides (most of) their output. Remove the -q if you want to see the details\n",
        "!pip install geemap -q"
      ]
    },
    {
      "cell_type": "code",
      "execution_count": 2,
      "metadata": {
        "id": "IL6ibpGakrFH"
      },
      "outputs": [],
      "source": [
        "# uninstalling flask b/c it leads to version conflicts later and is not needed\n",
        "!pip uninstall flask -y -q"
      ]
    },
    {
      "cell_type": "code",
      "execution_count": 3,
      "metadata": {
        "id": "KeXRz4IEJvn7"
      },
      "outputs": [],
      "source": [
        "!pip install kml2geojson google-api-python-client -q"
      ]
    },
    {
      "cell_type": "code",
      "execution_count": 4,
      "metadata": {
        "id": "Kq-2jLoje0_Q",
        "colab": {
          "base_uri": "https://localhost:8080/"
        },
        "outputId": "9c658d75-3e26-41f1-d8b2-34e88c7df28e"
      },
      "outputs": [
        {
          "output_type": "stream",
          "name": "stdout",
          "text": [
            "Collecting git+https://github.com/ChHarding/TouchTerrain_for_CAGEO.git\n",
            "  Cloning https://github.com/ChHarding/TouchTerrain_for_CAGEO.git to /tmp/pip-req-build-4uho5q_d\n",
            "  Running command git clone --filter=blob:none --quiet https://github.com/ChHarding/TouchTerrain_for_CAGEO.git /tmp/pip-req-build-4uho5q_d\n",
            "  Resolved https://github.com/ChHarding/TouchTerrain_for_CAGEO.git to commit 418e32a4d38d802b973823e704b8edba24d2a86f\n",
            "  Preparing metadata (setup.py) ... \u001b[?25l\u001b[?25hdone\n",
            "Requirement already satisfied: Pillow>=6.0.0 in /usr/local/lib/python3.10/dist-packages (from touchterrain==3.6.0) (11.0.0)\n",
            "Requirement already satisfied: google-api-python-client>=2.6 in /usr/local/lib/python3.10/dist-packages (from touchterrain==3.6.0) (2.151.0)\n",
            "Requirement already satisfied: earthengine-api>=0.1.232 in /usr/local/lib/python3.10/dist-packages (from touchterrain==3.6.0) (1.2.0)\n",
            "Requirement already satisfied: oauth2client>=4.1.3 in /usr/local/lib/python3.10/dist-packages (from touchterrain==3.6.0) (4.1.3)\n",
            "Requirement already satisfied: numpy>=1.17 in /usr/local/lib/python3.10/dist-packages (from touchterrain==3.6.0) (1.26.4)\n",
            "Requirement already satisfied: scipy>=1.2 in /usr/local/lib/python3.10/dist-packages (from touchterrain==3.6.0) (1.13.1)\n",
            "Requirement already satisfied: kml2geojson>=4.0.2 in /usr/local/lib/python3.10/dist-packages (from touchterrain==3.6.0) (5.1.0)\n",
            "Collecting geojson>=2.5 (from touchterrain==3.6.0)\n",
            "  Downloading geojson-3.1.0-py3-none-any.whl.metadata (16 kB)\n",
            "Requirement already satisfied: defusedxml>=0.6 in /usr/local/lib/python3.10/dist-packages (from touchterrain==3.6.0) (0.7.1)\n",
            "Requirement already satisfied: six>=1.15.0 in /usr/local/lib/python3.10/dist-packages (from touchterrain==3.6.0) (1.16.0)\n",
            "Requirement already satisfied: google-cloud-storage in /usr/local/lib/python3.10/dist-packages (from earthengine-api>=0.1.232->touchterrain==3.6.0) (2.8.0)\n",
            "Requirement already satisfied: google-auth>=1.4.1 in /usr/local/lib/python3.10/dist-packages (from earthengine-api>=0.1.232->touchterrain==3.6.0) (2.27.0)\n",
            "Requirement already satisfied: google-auth-httplib2>=0.0.3 in /usr/local/lib/python3.10/dist-packages (from earthengine-api>=0.1.232->touchterrain==3.6.0) (0.2.0)\n",
            "Requirement already satisfied: httplib2<1dev,>=0.9.2 in /usr/local/lib/python3.10/dist-packages (from earthengine-api>=0.1.232->touchterrain==3.6.0) (0.22.0)\n",
            "Requirement already satisfied: requests in /usr/local/lib/python3.10/dist-packages (from earthengine-api>=0.1.232->touchterrain==3.6.0) (2.32.3)\n",
            "Requirement already satisfied: google-api-core!=2.0.*,!=2.1.*,!=2.2.*,!=2.3.0,<3.0.0.dev0,>=1.31.5 in /usr/local/lib/python3.10/dist-packages (from google-api-python-client>=2.6->touchterrain==3.6.0) (2.19.2)\n",
            "Requirement already satisfied: uritemplate<5,>=3.0.1 in /usr/local/lib/python3.10/dist-packages (from google-api-python-client>=2.6->touchterrain==3.6.0) (4.1.1)\n",
            "Requirement already satisfied: click>=8.0.1 in /usr/local/lib/python3.10/dist-packages (from kml2geojson>=4.0.2->touchterrain==3.6.0) (8.1.7)\n",
            "Requirement already satisfied: pyasn1>=0.1.7 in /usr/local/lib/python3.10/dist-packages (from oauth2client>=4.1.3->touchterrain==3.6.0) (0.6.1)\n",
            "Requirement already satisfied: pyasn1-modules>=0.0.5 in /usr/local/lib/python3.10/dist-packages (from oauth2client>=4.1.3->touchterrain==3.6.0) (0.4.1)\n",
            "Requirement already satisfied: rsa>=3.1.4 in /usr/local/lib/python3.10/dist-packages (from oauth2client>=4.1.3->touchterrain==3.6.0) (4.9)\n",
            "Requirement already satisfied: googleapis-common-protos<2.0.dev0,>=1.56.2 in /usr/local/lib/python3.10/dist-packages (from google-api-core!=2.0.*,!=2.1.*,!=2.2.*,!=2.3.0,<3.0.0.dev0,>=1.31.5->google-api-python-client>=2.6->touchterrain==3.6.0) (1.66.0)\n",
            "Requirement already satisfied: protobuf!=3.20.0,!=3.20.1,!=4.21.0,!=4.21.1,!=4.21.2,!=4.21.3,!=4.21.4,!=4.21.5,<6.0.0.dev0,>=3.19.5 in /usr/local/lib/python3.10/dist-packages (from google-api-core!=2.0.*,!=2.1.*,!=2.2.*,!=2.3.0,<3.0.0.dev0,>=1.31.5->google-api-python-client>=2.6->touchterrain==3.6.0) (4.25.5)\n",
            "Requirement already satisfied: proto-plus<2.0.0dev,>=1.22.3 in /usr/local/lib/python3.10/dist-packages (from google-api-core!=2.0.*,!=2.1.*,!=2.2.*,!=2.3.0,<3.0.0.dev0,>=1.31.5->google-api-python-client>=2.6->touchterrain==3.6.0) (1.25.0)\n",
            "Requirement already satisfied: cachetools<6.0,>=2.0.0 in /usr/local/lib/python3.10/dist-packages (from google-auth>=1.4.1->earthengine-api>=0.1.232->touchterrain==3.6.0) (5.5.0)\n",
            "Requirement already satisfied: pyparsing!=3.0.0,!=3.0.1,!=3.0.2,!=3.0.3,<4,>=2.4.2 in /usr/local/lib/python3.10/dist-packages (from httplib2<1dev,>=0.9.2->earthengine-api>=0.1.232->touchterrain==3.6.0) (3.2.0)\n",
            "Requirement already satisfied: charset-normalizer<4,>=2 in /usr/local/lib/python3.10/dist-packages (from requests->earthengine-api>=0.1.232->touchterrain==3.6.0) (3.4.0)\n",
            "Requirement already satisfied: idna<4,>=2.5 in /usr/local/lib/python3.10/dist-packages (from requests->earthengine-api>=0.1.232->touchterrain==3.6.0) (3.10)\n",
            "Requirement already satisfied: urllib3<3,>=1.21.1 in /usr/local/lib/python3.10/dist-packages (from requests->earthengine-api>=0.1.232->touchterrain==3.6.0) (2.2.3)\n",
            "Requirement already satisfied: certifi>=2017.4.17 in /usr/local/lib/python3.10/dist-packages (from requests->earthengine-api>=0.1.232->touchterrain==3.6.0) (2024.8.30)\n",
            "Requirement already satisfied: google-cloud-core<3.0dev,>=2.3.0 in /usr/local/lib/python3.10/dist-packages (from google-cloud-storage->earthengine-api>=0.1.232->touchterrain==3.6.0) (2.4.1)\n",
            "Requirement already satisfied: google-resumable-media>=2.3.2 in /usr/local/lib/python3.10/dist-packages (from google-cloud-storage->earthengine-api>=0.1.232->touchterrain==3.6.0) (2.7.2)\n",
            "Requirement already satisfied: google-crc32c<2.0dev,>=1.0 in /usr/local/lib/python3.10/dist-packages (from google-resumable-media>=2.3.2->google-cloud-storage->earthengine-api>=0.1.232->touchterrain==3.6.0) (1.6.0)\n",
            "Downloading geojson-3.1.0-py3-none-any.whl (15 kB)\n",
            "Building wheels for collected packages: touchterrain\n",
            "  Building wheel for touchterrain (setup.py) ... \u001b[?25l\u001b[?25hdone\n",
            "  Created wheel for touchterrain: filename=touchterrain-3.6.0-py3-none-any.whl size=70704 sha256=6da4c83123b6b1aca486acad25cb17c50ca3d34a4d3e8cc92d4f8cab51749b5b\n",
            "  Stored in directory: /tmp/pip-ephem-wheel-cache-rkwk4r1s/wheels/1d/3d/6f/114172ad6300a219704cbf913842326c56a7d0ddfef9567257\n",
            "Successfully built touchterrain\n",
            "Installing collected packages: geojson, touchterrain\n",
            "Successfully installed geojson-3.1.0 touchterrain-3.6.0\n"
          ]
        }
      ],
      "source": [
        "# installing the touchterrain module from github\n",
        "!pip install git+https://github.com/ChHarding/TouchTerrain_for_CAGEO.git"
      ]
    },
    {
      "cell_type": "code",
      "execution_count": 5,
      "metadata": {
        "id": "Ace9MXIys9dr",
        "colab": {
          "base_uri": "https://localhost:8080/"
        },
        "outputId": "1e143081-74c3-4bd3-cd37-634a0ceb87ad"
      },
      "outputs": [
        {
          "output_type": "stream",
          "name": "stdout",
          "text": [
            "  % Total    % Received % Xferd  Average Speed   Time    Time     Time  Current\n",
            "                                 Dload  Upload   Total   Spent    Left  Speed\n",
            "  0     0    0     0    0     0      0      0 --:--:-- --:--:-- --:--:--     0\n",
            "100  484k  100  484k    0     0   725k      0 --:--:-- --:--:-- --:--:--  725k\n",
            "  % Total    % Received % Xferd  Average Speed   Time    Time     Time  Current\n",
            "                                 Dload  Upload   Total   Spent    Left  Speed\n",
            "  0     0    0     0    0     0      0      0 --:--:-- --:--:-- --:--:--     0\n",
            "100  407k  100  407k    0     0   493k      0 --:--:-- --:--:-- --:--:-- 1362k\n",
            "  % Total    % Received % Xferd  Average Speed   Time    Time     Time  Current\n",
            "                                 Dload  Upload   Total   Spent    Left  Speed\n",
            "  0     0    0     0    0     0      0      0 --:--:-- --:--:-- --:--:--     0\n",
            "100  2536  100  2536    0     0   3464      0 --:--:-- --:--:-- --:--:-- 12743\n"
          ]
        }
      ],
      "source": [
        "# Download some example files, these will eventually show up in the Files tab on the left\n",
        "# More on how to use these later\n",
        "\n",
        "# Example local geotiff DEM file\n",
        "!curl -LJO https://github.com/ChHarding/TouchTerrain_for_CAGEO/raw/master/stuff/geotiff_example.tif\n",
        "\n",
        "# Example of a gpx path (trail\n",
        "!curl -LJO https://github.com/ChHarding/TouchTerrain_for_CAGEO/raw/master/stuff/gpx-test/example_path.gpx\n",
        "\n",
        "# Example of kml polygon file\n",
        "!curl -LJO https://github.com/ChHarding/TouchTerrain_for_CAGEO/raw/master/stuff/polygon_example.kml"
      ]
    },
    {
      "cell_type": "code",
      "execution_count": 6,
      "metadata": {
        "id": "to3DxZRjQZ5E",
        "colab": {
          "base_uri": "https://localhost:8080/"
        },
        "outputId": "c44ea030-16c3-4284-ac3a-9c4313a75a2a"
      },
      "outputs": [
        {
          "output_type": "stream",
          "name": "stdout",
          "text": [
            "Mounted at /content/drive\n"
          ]
        }
      ],
      "source": [
        "# If you want to connect this notebook to your google drive, run this cell\n",
        "# You should see your google drive folder as drive/MyDrive in the File tab on the left\n",
        "from google.colab import drive\n",
        "drive.mount('/content/drive')"
      ]
    },
    {
      "cell_type": "markdown",
      "metadata": {
        "id": "or_Zwb3T-yDW"
      },
      "source": [
        "### Preparing to use Google Earth Engine online DEM rasters\n",
        "\n",
        "- TouchTerrain uses Digital Elevation Model (DEM) data\n",
        "- You can either use online elevation data or a local elevation dataset (geotiff file)\n",
        "- if you only want to use terrain data from locally stored raster files (geotiffs), *you don't need to go through this authenticaton part!* Just jump directly to __Ready to go!__ You will get a warning about EE not being initialized properly *(WARNING:root:EE init() error (with .config/earthengine/credentials) Please authorize access to your Earth Engine account)* but you can ignore that.\n",
        "- TouchTerrain can use DEM data from Google Earth Engine (given the corners of the area), but you need to first set up an earth engine account and create Google cloud project. Note that this includes setting up a charge account, however, you will typically not be charged.\n",
        "- See this [guide](https://github.com/ChHarding/TouchTerrain_for_CAGEO/blob/master/EarthEngine_authentication_guide.md#request-a-earthengine-dev-account) for how to get an earth engine account.\n"
      ]
    },
    {
      "cell_type": "markdown",
      "metadata": {
        "id": "1-bLQjGS-yDX"
      },
      "source": [
        "### Authentication with Earth Engine\n",
        "- When you run the cell below for the first time, you will be asked to autheticate with EarthEngine\n",
        "\n",
        "- This text should appear and you should be redirected to a webpage:\n",
        "```\n",
        "To authorize access needed by Earth Engine, open the following URL in a web browser and follow the instructions. If the web browser does  not start automatically, please manually browse the URL below.\n",
        "```\n",
        "- The web page will have you select a Google account for use with Earth Engine and give you a token\n",
        "- Assuming you got your earth engine account, follow [this part of the guide](https://github.com/ChHarding/TouchTerrain_for_CAGEO/blob/master/EarthEngine_authentication_guide.md#generating-the-token) to get this token\n",
        "- Paste in your token here: `Enter verification code: <your token>` __and hit Enter(!)__, you should get `Successfully saved authorization token.`\n",
        "- This needs to be done once after the runtime was created (as it just needs to create a file)."
      ]
    },
    {
      "cell_type": "code",
      "execution_count": 7,
      "metadata": {
        "id": "KcvlTunJ-yDX",
        "colab": {
          "base_uri": "https://localhost:8080/"
        },
        "outputId": "3533582b-8858-46a3-cc30-084aebd63fec"
      },
      "outputs": [
        {
          "output_type": "stream",
          "name": "stderr",
          "text": [
            "*** Earth Engine *** Share your feedback by taking our Annual Developer Satisfaction Survey: https://google.qualtrics.com/jfe/form/SV_0JLhFqfSY1uiEaW?source=Init\n"
          ]
        }
      ],
      "source": [
        "# Authenticates and initializes Earth Engine\n",
        "import ee\n",
        "\n",
        "try:\n",
        "    ee.Initialize(project='touchterrain-bscholer')\n",
        "except Exception as e: # if the initialization didn't work, web authenticate first\n",
        "    ee.Authenticate()\n",
        "    ee.Initialize(project='touchterrain-bscholer')"
      ]
    },
    {
      "cell_type": "markdown",
      "metadata": {
        "id": "DLUAf7igBOpR"
      },
      "source": [
        "# Ready to go!\n",
        "- You can now start running TouchTerrain standalone code, starting with importing python packages.\n",
        "- __Important:__ If you ever change runtimes or if your runtime times out, you have to __repeat installing everything from the top of this notebook again__ as your virtual hard drive got essentially wiped out and you need to install (and authorize) again!\n",
        "- In this event, do this: Use Edit - Clear all outputs, then go back to the very first cell and run through the installation and authorization again."
      ]
    },
    {
      "cell_type": "markdown",
      "metadata": {
        "id": "PhNvRhtJ-yDZ"
      },
      "source": [
        "### Importing python packages\n",
        "- Run the next cell, it'll import the required packages into Python, including Touchterrain\n",
        "- The earth engine package you imported and authorized earlier, will be initialized here.\n",
        "- If you plan to use online data and did authorize Earth Engine, you should see `EE init() worked with .config/earthengine/credentials`\n",
        "- If you don't plan on using online data (and therefore didn't authenticate Earth Engine) you will get a warning here, which you can ignore\n"
      ]
    },
    {
      "cell_type": "code",
      "execution_count": 8,
      "metadata": {
        "id": "N2AxxiT2-yDa",
        "tags": [],
        "colab": {
          "base_uri": "https://localhost:8080/",
          "height": 35
        },
        "outputId": "7f85ef9a-f7ca-468f-afde-1445d797c580"
      },
      "outputs": [
        {
          "output_type": "stream",
          "name": "stderr",
          "text": [
            "INFO:root:EE init() worked with .config/earthengine/credentials\n"
          ]
        }
      ],
      "source": [
        "# import packages\n",
        "import os.path\n",
        "from glob import glob\n",
        "from random import randint\n",
        "from shutil import rmtree\n",
        "import ee\n",
        "from geojson import Polygon\n",
        "import geemap\n",
        "from touchterrain.common import TouchTerrainEarthEngine as TouchTerrain\n",
        "from touchterrain.common.TouchTerrainGPX import *\n",
        "from os import getcwd, listdir\n",
        "args = TouchTerrain.initial_args # default args"
      ]
    },
    {
      "cell_type": "markdown",
      "metadata": {
        "id": "oVwXzNZv-yDa"
      },
      "source": [
        "## Define the values for processing settings\n",
        "- We now need to define the processing settings for the 3D model we want to create. Unlike the web app, they need to be set via Python variables.\n",
        "- The variable `args` will hold all processing settings. The __name__ of a setting  will be between [] and inside double quotes, the setting's __value__ will be to the right of the = . The value can be a number (120 or 0.4), a string (\"STLb\") or the special value `None`.\n",
        "- Example: `args[\"tilewidth\"] = 120`     will define the value of the setting named `tilewidth` to be 120\n",
        "\n",
        "### Comments\n",
        "- In Python, anything to the right of a `#` will be ignored.\n",
        "- You will often need comment out or uncomment a line of Python code.\n",
        "- A line starting with a `#` (no spaces before it) is said to be commented out, it will be entirely ignored. This a useful to temporarily deactivate the line and re-activate it again later.\n",
        "- To uncomment a line means to remove the leading `#`, again leaving no spaces before the first actual code letter. This makes the line valid code again.\n",
        "\n",
        "<div>\n",
        "\n",
        "- Example of commenting out a line of code and uncommenting it properly:\n",
        "```\n",
        "print(123)\n",
        "#print(123)\n",
        "print(123)\n",
        "```\n",
        "- Examples of bad commenting with a leading space. I'm using an underscore here for better visibility.\n",
        "```\n",
        "_#print(123)\n",
        "_print(123)\n",
        "```"
      ]
    },
    {
      "cell_type": "markdown",
      "metadata": {
        "id": "vuc-uGQI-yDa"
      },
      "source": [
        "### Use a locally stored geotiff DEM file instead of an online DEM\n",
        "__If you plan to use online Earth Engine data instead of a local geotiff file, skip this cell and go to *Select your print area*__\n",
        "- You may want create a terrain model from a geotiff DEM file that you've downloaded or created via a GIS. As TouchTerrain needs to import this file during processing, you first need to copy (upload) it via the jupyterLab File Manager.\n",
        "- Open the File Manager (left side) and drag your geotiff into the panel to upload it. Remember the file name for later\n",
        "- The installation also downloaded an example geotif file called geotiff_example.tif\n",
        "\n",
        "<div>\n",
        "\n",
        "- The cell below sets the value of __importedDEM__ to this path (e.g. `\"geotiff_example.tif\"`). To use your geotiff file, upload it to the current folder and replace this with it's name, e.g. `\"myDEM.tif\"` (make sure to use \"s around the filename!).\n",
        "- Hint: if you want to use a tif stored in your (connected) Google Drive, find it in the Files tab, right-click - Copy Path and paste this in below, e.g. `args[\"importedDEM\"] = \"/content/drive/MyDrive/DEMs/SanPedro.tif\"`\n",
        "- if you are using a local geotiff, skip _Select DEM source_ and _Select print area on geemap_ as the geotiff is your DEM source and  implicitly defines the print area. Go straight to _Setting the tile width_\n",
        "- if you do NOT want to use a local geotiff and want to use online DEM rasters instead, leave the value as `None`."
      ]
    },
    {
      "cell_type": "code",
      "execution_count": 9,
      "metadata": {
        "id": "UWtTM6sP-yDa",
        "colab": {
          "base_uri": "https://localhost:8080/",
          "height": 17
        },
        "outputId": "bd640a68-f5b2-47fe-ea1a-af6351eb711d"
      },
      "outputs": [
        {
          "output_type": "display_data",
          "data": {
            "text/plain": [
              "<IPython.core.display.HTML object>"
            ],
            "text/html": [
              "\n",
              "            <style>\n",
              "                .geemap-dark {\n",
              "                    --jp-widgets-color: white;\n",
              "                    --jp-widgets-label-color: white;\n",
              "                    --jp-ui-font-color1: white;\n",
              "                    --jp-layout-color2: #454545;\n",
              "                    background-color: #383838;\n",
              "                }\n",
              "\n",
              "                .geemap-dark .jupyter-button {\n",
              "                    --jp-layout-color3: #383838;\n",
              "                }\n",
              "\n",
              "                .geemap-colab {\n",
              "                    background-color: var(--colab-primary-surface-color, white);\n",
              "                }\n",
              "\n",
              "                .geemap-colab .jupyter-button {\n",
              "                    --jp-layout-color3: var(--colab-primary-surface-color, white);\n",
              "                }\n",
              "            </style>\n",
              "            "
            ]
          },
          "metadata": {}
        }
      ],
      "source": [
        "# Comment out one of following two lines:\n",
        "#args[\"importedDEM\"] =   \"geotiff_example.tif\" # path of the geotiff file to use\n",
        "args[\"importedDEM\"] = None  # no file used, use online DEM rasters instead\n",
        "\n",
        "# convert into an absolute path for later\n",
        "if args[\"importedDEM\"] != None:\n",
        "    args[\"importedDEM\"]= os.path.abspath(args[\"importedDEM\"])\n",
        "    print(\"Current folder\", getcwd(), \" contains\", listdir())\n",
        "    print(\"importedDEM\", args[\"importedDEM\"])"
      ]
    },
    {
      "cell_type": "markdown",
      "metadata": {
        "id": "B8ZoiziL-yDb"
      },
      "source": [
        "### Select the name of the DEM source (online elevation data)\n",
        "- Before you can select the actual print area, you need to select which online DEM source will be used. The setting is called `DEM_name`.\n",
        "- There are several options but for starters you only need to decide among two options:\n",
        "    - If your area is in the lower 48 US states, use `USGS/NED`\n",
        "    - Anywhere else on the globe use: `JAXA/ALOS/AW3D30/V2_2`\n",
        "    - (there are more DEM sources to choose from, see `DEM_name` [here](https://github.com/ChHarding/TouchTerrain_for_CAGEO#processing-parameters) )\n",
        "- Comment/uncomment the appropriate line in the cell below and hit Shift-Enter"
      ]
    },
    {
      "cell_type": "code",
      "execution_count": 10,
      "metadata": {
        "id": "QChEoU5t-yDb",
        "colab": {
          "base_uri": "https://localhost:8080/",
          "height": 17
        },
        "outputId": "0de28562-ef13-4b25-dc23-fb4a6cd861fe"
      },
      "outputs": [
        {
          "output_type": "display_data",
          "data": {
            "text/plain": [
              "<IPython.core.display.HTML object>"
            ],
            "text/html": [
              "\n",
              "            <style>\n",
              "                .geemap-dark {\n",
              "                    --jp-widgets-color: white;\n",
              "                    --jp-widgets-label-color: white;\n",
              "                    --jp-ui-font-color1: white;\n",
              "                    --jp-layout-color2: #454545;\n",
              "                    background-color: #383838;\n",
              "                }\n",
              "\n",
              "                .geemap-dark .jupyter-button {\n",
              "                    --jp-layout-color3: #383838;\n",
              "                }\n",
              "\n",
              "                .geemap-colab {\n",
              "                    background-color: var(--colab-primary-surface-color, white);\n",
              "                }\n",
              "\n",
              "                .geemap-colab .jupyter-button {\n",
              "                    --jp-layout-color3: var(--colab-primary-surface-color, white);\n",
              "                }\n",
              "            </style>\n",
              "            "
            ]
          },
          "metadata": {}
        }
      ],
      "source": [
        "# Comment out one of the following two lines\n",
        "args[\"DEM_name\"] = \"USGS/3DEP/10m\"  # area is within the lower 48 (US)\n",
        "#args[\"DEM_name\"] = \"JAXA/ALOS/AW3D30/V2_2\"  # area is outside the US (worldwide)"
      ]
    },
    {
      "cell_type": "markdown",
      "metadata": {
        "id": "CP7Alq_P-yDb"
      },
      "source": [
        "### Import GPX path lines\n",
        "__This is more of an expert option. If you are just starting, skip this and go to the next cell__\n",
        "- You can drape one or more gpx (path) files over your terrain\n",
        "- Similar to importedDEM, the file names for the GPX file(s) are stored in the importedGPX setting.\n",
        "- However, as you can import more than one GPX file, you need to put the path name into a list, i.e. inside brackets, even if you just have a single GPX file! Separate multiple GPX files with commas:  \n",
        "    - `args[\"importedGPX\"] = [\"justonegpxfile.gpx\"]`  \n",
        "    - `args[\"importedGPX\"] = [\"file1.gpx\", \"file2.gpx\", \"file3.gpx\"]`\n",
        "- `gpxPathHeight` (in meters) defines how much a path is elevated above the terrain. Use a negative number to create a trench.\n",
        "- `gpxPixelsBetweenPoints` (in meters) lets you reduce the number of point in your path to place a point only every X meters. This can help to simplify complex patterns.\n",
        "- `gpxPathThickness` (meters) controls the thickness of the path, which makes it more pronouced when printed\n",
        "- There are several GPX example files in the stuff folder. To use them, uncomment the first 4 lines in the cell below and comment out the last line.\n",
        "- If you're not using GPX files, just leave the cell as is and run it. (Or you can skip it). Setting importedGPX to None means that no GPX files are imported.\n"
      ]
    },
    {
      "cell_type": "code",
      "execution_count": 13,
      "metadata": {
        "id": "uVagzRxY-yDb",
        "colab": {
          "base_uri": "https://localhost:8080/",
          "height": 17
        },
        "outputId": "26a5145e-754d-4661-db49-e1cbbd373aa5"
      },
      "outputs": [
        {
          "output_type": "display_data",
          "data": {
            "text/plain": [
              "<IPython.core.display.HTML object>"
            ],
            "text/html": [
              "\n",
              "            <style>\n",
              "                .geemap-dark {\n",
              "                    --jp-widgets-color: white;\n",
              "                    --jp-widgets-label-color: white;\n",
              "                    --jp-ui-font-color1: white;\n",
              "                    --jp-layout-color2: #454545;\n",
              "                    background-color: #383838;\n",
              "                }\n",
              "\n",
              "                .geemap-dark .jupyter-button {\n",
              "                    --jp-layout-color3: #383838;\n",
              "                }\n",
              "\n",
              "                .geemap-colab {\n",
              "                    background-color: var(--colab-primary-surface-color, white);\n",
              "                }\n",
              "\n",
              "                .geemap-colab .jupyter-button {\n",
              "                    --jp-layout-color3: var(--colab-primary-surface-color, white);\n",
              "                }\n",
              "            </style>\n",
              "            "
            ]
          },
          "metadata": {}
        }
      ],
      "source": [
        "args[\"gpxPathHeight\"] = 10\n",
        "args[\"gpxPixelsBetweenPoints\"] = 40\n",
        "args[\"gpxPathThickness\"] = 500\n",
        "\n",
        "# Comment out one of the following two lines\n",
        "#args[\"importedGPX\"] = [\"example_path.gpx\"] # list of one GPX file, for more, separate them with commas (see above)\n",
        "args[\"importedGPX\"] = [\"/content/us_interstates_simplified.gpx\"]  # Do not use any GPX path files"
      ]
    },
    {
      "cell_type": "markdown",
      "metadata": {
        "id": "UPS8FhHk-yDc"
      },
      "source": [
        "## Select your print area\n",
        "- When using an online DEM, there are several ways to define the area you want to print. Use only one and skip the cells for the other two options. Then go to _Setting the tile width_\n",
        "- A)  Enter corner coordinates of a box into a code cell\n",
        "- B)  Use your mouse to digitize a box, circle or polygon on a geemap\n",
        "- C)  Load a kml file (typically created via Google Earth) that contains a single polygon\n",
        "\n",
        "\n",
        "### A) Select print area via lat/long coordinates of its corners (optional)\n",
        "- If you'd rather define your area through actual coordinates, change the default values in the cell below accordingly.\n",
        "- Note that you *must* give it the lat/long of the bottom left (South-West) corner and lat/long of the top right (North-East) corner!\n",
        "- After you've run the cell, skip B and C and jump straight to `Setting the tile width`"
      ]
    },
    {
      "cell_type": "code",
      "execution_count": null,
      "metadata": {
        "id": "wNvE9L_k-yDc"
      },
      "outputs": [],
      "source": [
        "# Bottom left corner\n",
        "args[\"bllat\"] = 39.322\n",
        "args[\"bllon\"] = -120.374\n",
        "\n",
        "# Top right corner coordinates\n",
        "args[\"trlat\"] = 39.457\n",
        "args[\"trlon\"] = -120.2"
      ]
    },
    {
      "cell_type": "markdown",
      "metadata": {
        "id": "Hvyb1xkx-yDc"
      },
      "source": [
        "### B) Select print area interactively via geemap\n",
        "- If you didn't use a local geotiff or set your the print area's corner coordinates, run the next cell to show an interactive map, from which you will select your print area.\n",
        "- Valid areas are covered by a grey hillshade layer in the background. If your desired area is not covered, go back and select the worldwide DEM source, and re-run the next cell.\n",
        "- If you're importing GPX files, they will show up on the map as cyan lines.\n",
        "- To find the desired print area, use left mouse drag to pan and mouse wheel (or +- buttons) to zoom in/out.\n",
        "- You can also use the search buttons (globe on top left or spyglass) which will place a marker at the result's location."
      ]
    },
    {
      "cell_type": "code",
      "execution_count": null,
      "metadata": {
        "id": "iUYhyLQ7-yDc"
      },
      "outputs": [],
      "source": [
        "# Create an interactive map and center on default area\n",
        "center_lat = (args[\"trlat\"] + args[\"bllat\"]) / 2\n",
        "center_lon = (args[\"trlon\"] + args[\"bllon\"]) / 2\n",
        "Map = geemap.Map(center=(center_lat, center_lon), zoom=7)\n",
        "\n",
        "# make a hillshade layer and add it to map\n",
        "dem = ee.Image(args[\"DEM_name\"]) # DEM source\n",
        "hs = ee.Terrain.hillshade(dem, 315, 35) # sun azimuth and angle\n",
        "vis_params = {'min': 0,'max': 255,} # greyscale color ramp\n",
        "Map.addLayer(hs, vis_params, 'hillshade', shown=True, opacity=0.5) # semi transparent overlay\n",
        "\n",
        "# if GPX files were used, add them to the map\n",
        "if args[\"importedGPX\"] != None and len(args[\"importedGPX\"]) > 0:\n",
        "        gpx = ee.Feature(convert_to_GeoJSON(args[\"importedGPX\"]))\n",
        "        Map.addLayer(gpx, {\"color\":'00FFFF', \"strokeWidth\":\"1\"}, \"GPX line\", opacity=0.9)\n",
        "\n",
        "Map # makes the interactive map show up as output of this cell"
      ]
    },
    {
      "cell_type": "markdown",
      "metadata": {
        "id": "nAoW7ZWr-yDd"
      },
      "source": [
        "- You could use the place search (click on upper left button, name/address or lat/long) or just fly around.\n",
        "- Once you found a good general area, hit a Draw button in the center left to digitize the exact outline of your terrain model.\n",
        "- Your options are: Draw a Polygon or Draw a Rectangle or Draw a Circle. __Do NOT use Draw a Marker or Draw a Polyline!__\n",
        "- Draw a Rectangle is the simplest method.\n",
        "- To remove it to draw an different outline, click on the trashcan. If you create multiple outlines, only the last one will be stored (see next cell).\n",
        "- Edit layer will let you edit a outline.\n",
        "- Once you're happy with your outline, run the cell below. It will store the (last) outline and use it to create your terrain model. If you change your mind, simply draw another outline and re-run the cell below, it will always take the most recent outline.\n",
        "- After running the cell below, skip C"
      ]
    },
    {
      "cell_type": "code",
      "execution_count": null,
      "metadata": {
        "id": "fiQlxsGe-yDd"
      },
      "outputs": [],
      "source": [
        "# make and store a GeoJSON polygon from (last) digitized outline\n",
        "polyft = Map.draw_last_feature # get last outline\n",
        "args[\"polygon\"] = Polygon(polyft.getInfo()['geometry']['coordinates'])\n",
        "print(\"Got it!\")"
      ]
    },
    {
      "cell_type": "markdown",
      "metadata": {
        "id": "K7FygKjh-yDd"
      },
      "source": [
        "### C) Using a KML file to define the outline of the area\n",
        "- Instead of digitizing an outline in the geemap, you could instead use a polygon stored in a kml file. You can digitize a polygon in Google Earth and store it as a kml file (NOT a kmz file!).\n",
        "- In File on the right and drag your kml file into the panel to upload it\n",
        "- Check that the kml file in the same folder as the notebook (should be in your content folder) and set `poly_file` to its location."
      ]
    },
    {
      "cell_type": "code",
      "execution_count": 12,
      "metadata": {
        "id": "XBc5smDJ-yDd",
        "colab": {
          "base_uri": "https://localhost:8080/",
          "height": 55
        },
        "outputId": "5e6de5fb-2a98-43e6-dfb1-4ace63f0a254"
      },
      "outputs": [
        {
          "output_type": "display_data",
          "data": {
            "text/plain": [
              "<IPython.core.display.HTML object>"
            ],
            "text/html": [
              "\n",
              "            <style>\n",
              "                .geemap-dark {\n",
              "                    --jp-widgets-color: white;\n",
              "                    --jp-widgets-label-color: white;\n",
              "                    --jp-ui-font-color1: white;\n",
              "                    --jp-layout-color2: #454545;\n",
              "                    background-color: #383838;\n",
              "                }\n",
              "\n",
              "                .geemap-dark .jupyter-button {\n",
              "                    --jp-layout-color3: #383838;\n",
              "                }\n",
              "\n",
              "                .geemap-colab {\n",
              "                    background-color: var(--colab-primary-surface-color, white);\n",
              "                }\n",
              "\n",
              "                .geemap-colab .jupyter-button {\n",
              "                    --jp-layout-color3: var(--colab-primary-surface-color, white);\n",
              "                }\n",
              "            </style>\n",
              "            "
            ]
          },
          "metadata": {}
        },
        {
          "output_type": "stream",
          "name": "stdout",
          "text": [
            "Current folder /content  contains:  ['.config', 'polygon_example.kml', 'usa.kml', 'drive', 'example_path.gpx', 'geotiff_example.tif', 'us_interstates_simplified.gpx', 'sample_data']\n"
          ]
        }
      ],
      "source": [
        "# If you uploaded a kml file, check that it shows up here:\n",
        "print(\"Current folder\", getcwd(), \" contains: \", listdir())\n",
        "\n",
        "# Comment out either this line:\n",
        "# args[\"poly_file\"] = None # Don't use a kml file\n",
        "\n",
        "# or both of these lines:\n",
        "args[\"poly_file\"] = \"usa.kml\" # location of kml file to use\n",
        "args[\"polygon\"] = None  # ensures that any gee polygon you might have digitized is not used"
      ]
    },
    {
      "cell_type": "markdown",
      "metadata": {
        "id": "4Cs_z8cT-yDd"
      },
      "source": [
        "### Setting the tile width\n",
        "- (If you used a local geotiff file as DEM, resume here)\n",
        "- The tilewidth setting defines how (physically) large the selected print area will be after it's been printed. Units are in mm.\n",
        "- By width, we mean the extent of your model in the East-West direction. The height will be automatically calculated based on the area you selected earlier.\n",
        "- Change the value in the cell below to your liking and hit Shift-Enter"
      ]
    },
    {
      "cell_type": "code",
      "execution_count": 15,
      "metadata": {
        "id": "T7JB97z3-yDe",
        "colab": {
          "base_uri": "https://localhost:8080/",
          "height": 17
        },
        "outputId": "78a51093-8c65-4e59-ac85-8d4388f167d0"
      },
      "outputs": [
        {
          "output_type": "display_data",
          "data": {
            "text/plain": [
              "<IPython.core.display.HTML object>"
            ],
            "text/html": [
              "\n",
              "            <style>\n",
              "                .geemap-dark {\n",
              "                    --jp-widgets-color: white;\n",
              "                    --jp-widgets-label-color: white;\n",
              "                    --jp-ui-font-color1: white;\n",
              "                    --jp-layout-color2: #454545;\n",
              "                    background-color: #383838;\n",
              "                }\n",
              "\n",
              "                .geemap-dark .jupyter-button {\n",
              "                    --jp-layout-color3: #383838;\n",
              "                }\n",
              "\n",
              "                .geemap-colab {\n",
              "                    background-color: var(--colab-primary-surface-color, white);\n",
              "                }\n",
              "\n",
              "                .geemap-colab .jupyter-button {\n",
              "                    --jp-layout-color3: var(--colab-primary-surface-color, white);\n",
              "                }\n",
              "            </style>\n",
              "            "
            ]
          },
          "metadata": {}
        }
      ],
      "source": [
        "args[\"tilewidth\"] = 100 # in mm"
      ]
    },
    {
      "cell_type": "markdown",
      "metadata": {
        "id": "zwBF0sGW-yDe"
      },
      "source": [
        "### Setting the number of tiles and their and setup  \n",
        "- It's possible to divide the print are into multiple tiles. This will results in several STL files instead of just one.\n",
        "- This is useful if you want to print several (smaller) tiles that each fit on you buildplate and later glue them together into one large model.\n",
        "- If you just want a single STL file, set both, ntilesx and ntilesy, to 1\n",
        "- For multiple tiles, decide how many tiles you want along East-West (ntilesx) and how many along North-South (ntilesy)"
      ]
    },
    {
      "cell_type": "code",
      "execution_count": 16,
      "metadata": {
        "id": "l8cG0iUL-yDe",
        "colab": {
          "base_uri": "https://localhost:8080/",
          "height": 17
        },
        "outputId": "84e7701c-05e4-486d-f6d6-c116283150ba"
      },
      "outputs": [
        {
          "output_type": "display_data",
          "data": {
            "text/plain": [
              "<IPython.core.display.HTML object>"
            ],
            "text/html": [
              "\n",
              "            <style>\n",
              "                .geemap-dark {\n",
              "                    --jp-widgets-color: white;\n",
              "                    --jp-widgets-label-color: white;\n",
              "                    --jp-ui-font-color1: white;\n",
              "                    --jp-layout-color2: #454545;\n",
              "                    background-color: #383838;\n",
              "                }\n",
              "\n",
              "                .geemap-dark .jupyter-button {\n",
              "                    --jp-layout-color3: #383838;\n",
              "                }\n",
              "\n",
              "                .geemap-colab {\n",
              "                    background-color: var(--colab-primary-surface-color, white);\n",
              "                }\n",
              "\n",
              "                .geemap-colab .jupyter-button {\n",
              "                    --jp-layout-color3: var(--colab-primary-surface-color, white);\n",
              "                }\n",
              "            </style>\n",
              "            "
            ]
          },
          "metadata": {}
        }
      ],
      "source": [
        "args[\"ntilesx\"] = 3 # number of tiles in x\n",
        "args[\"ntilesy\"] = 1 # number of tiles in y"
      ]
    },
    {
      "cell_type": "markdown",
      "metadata": {
        "id": "rrUojwyh-yDe"
      },
      "source": [
        "### Setting the Base thickness (in mm)\n",
        "- The basethick setting determines how much material is put beneath the thinnest part to the terrain print\n",
        "- Use a value of at least 0.5 mm, more if you want a beefier base"
      ]
    },
    {
      "cell_type": "code",
      "execution_count": 17,
      "metadata": {
        "id": "Uvd-mO9u-yDe",
        "colab": {
          "base_uri": "https://localhost:8080/",
          "height": 17
        },
        "outputId": "99916525-72b8-4590-f993-23c681fb883f"
      },
      "outputs": [
        {
          "output_type": "display_data",
          "data": {
            "text/plain": [
              "<IPython.core.display.HTML object>"
            ],
            "text/html": [
              "\n",
              "            <style>\n",
              "                .geemap-dark {\n",
              "                    --jp-widgets-color: white;\n",
              "                    --jp-widgets-label-color: white;\n",
              "                    --jp-ui-font-color1: white;\n",
              "                    --jp-layout-color2: #454545;\n",
              "                    background-color: #383838;\n",
              "                }\n",
              "\n",
              "                .geemap-dark .jupyter-button {\n",
              "                    --jp-layout-color3: #383838;\n",
              "                }\n",
              "\n",
              "                .geemap-colab {\n",
              "                    background-color: var(--colab-primary-surface-color, white);\n",
              "                }\n",
              "\n",
              "                .geemap-colab .jupyter-button {\n",
              "                    --jp-layout-color3: var(--colab-primary-surface-color, white);\n",
              "                }\n",
              "            </style>\n",
              "            "
            ]
          },
          "metadata": {}
        }
      ],
      "source": [
        "args[\"basethick\"] = 0.6 # in mm"
      ]
    },
    {
      "cell_type": "markdown",
      "metadata": {
        "id": "ZkE4uSKY-yDe"
      },
      "source": [
        "### Setting the print resolution\n",
        "- Set this value to the diameter of you nozzle size or slightly below.\n",
        "- Tinker with this only if you know what you're doing. This setting defines how much of the fine details the STL file will contain. The detail you're realistically able to print is limited by your nozzle size. If you set setting much lower than your nozzle size, the STL file will be needlessly large, the slicer will take longer but your print will come out the same as if you had used approximately your nozzle size.\n",
        "- In almost all cases, 0.4 mm will be fine for 3D printers.\n",
        "- If you are using a local geofiff file, setting this to -1 will use the native resolution of the geotiff. This is typically overkill b/c of the nozzle limitation and may lead to huge models that may be too much for you system to handle!"
      ]
    },
    {
      "cell_type": "code",
      "execution_count": 18,
      "metadata": {
        "id": "EB1DQWeK-yDf",
        "colab": {
          "base_uri": "https://localhost:8080/",
          "height": 17
        },
        "outputId": "daedc2c0-2af8-4f0d-c002-152e52ce8510"
      },
      "outputs": [
        {
          "output_type": "display_data",
          "data": {
            "text/plain": [
              "<IPython.core.display.HTML object>"
            ],
            "text/html": [
              "\n",
              "            <style>\n",
              "                .geemap-dark {\n",
              "                    --jp-widgets-color: white;\n",
              "                    --jp-widgets-label-color: white;\n",
              "                    --jp-ui-font-color1: white;\n",
              "                    --jp-layout-color2: #454545;\n",
              "                    background-color: #383838;\n",
              "                }\n",
              "\n",
              "                .geemap-dark .jupyter-button {\n",
              "                    --jp-layout-color3: #383838;\n",
              "                }\n",
              "\n",
              "                .geemap-colab {\n",
              "                    background-color: var(--colab-primary-surface-color, white);\n",
              "                }\n",
              "\n",
              "                .geemap-colab .jupyter-button {\n",
              "                    --jp-layout-color3: var(--colab-primary-surface-color, white);\n",
              "                }\n",
              "            </style>\n",
              "            "
            ]
          },
          "metadata": {}
        }
      ],
      "source": [
        "args[\"printres\"] = 0.4 # in mm"
      ]
    },
    {
      "cell_type": "markdown",
      "metadata": {
        "id": "UEYznEG3-yDf"
      },
      "source": [
        "### Setting the z-scale (elevation exaggeration factor)\n",
        "- To print the terrain in its \"true\" form (without any vertical scaling applied), set zscale to 1.0. This works well for terrain with great elevation differences, such as the Grand Canyon or Mt. Fuji\n",
        "- Most other terrain usual benefits from a z-scale larger than 1. For gentle hills, use 1.5 to 2.5. For cities use 2.5 to 6. For river deltas and other low relief areas use up to 10.\n",
        "- The height of your printed terrain should be at least 20 - 30 mm high to show good detail. You can check the processing log for `top min/max`, max should be least 20 - 30 mm. If this is too low, use a higher zscale and process again.\n",
        "- Alternatively, you can set this to a __negative number__ which will be interpreted as the desired height of the tallest terrain point in mm. Examples:  -12.7 means \"make 1/2 inch tall\", -20 means \"make 20 mm tall\", etc."
      ]
    },
    {
      "cell_type": "code",
      "execution_count": 19,
      "metadata": {
        "id": "dHWNbT5_-yDf",
        "colab": {
          "base_uri": "https://localhost:8080/",
          "height": 17
        },
        "outputId": "13601b88-1d9f-4afa-e04b-bc054efcf432"
      },
      "outputs": [
        {
          "output_type": "display_data",
          "data": {
            "text/plain": [
              "<IPython.core.display.HTML object>"
            ],
            "text/html": [
              "\n",
              "            <style>\n",
              "                .geemap-dark {\n",
              "                    --jp-widgets-color: white;\n",
              "                    --jp-widgets-label-color: white;\n",
              "                    --jp-ui-font-color1: white;\n",
              "                    --jp-layout-color2: #454545;\n",
              "                    background-color: #383838;\n",
              "                }\n",
              "\n",
              "                .geemap-dark .jupyter-button {\n",
              "                    --jp-layout-color3: #383838;\n",
              "                }\n",
              "\n",
              "                .geemap-colab {\n",
              "                    background-color: var(--colab-primary-surface-color, white);\n",
              "                }\n",
              "\n",
              "                .geemap-colab .jupyter-button {\n",
              "                    --jp-layout-color3: var(--colab-primary-surface-color, white);\n",
              "                }\n",
              "            </style>\n",
              "            "
            ]
          },
          "metadata": {}
        }
      ],
      "source": [
        "args[\"zscale\"] = -20 # elevation scale factor"
      ]
    },
    {
      "cell_type": "markdown",
      "metadata": {
        "id": "cRYHbqSe-yDf"
      },
      "source": [
        "### Set the name of your terrain model zipfile\n",
        "- Once a STL file of your terrain model has been created, it will be zipped into a zipfile and copied into the tmp folder. The zipfile also contains a log file and a geotiff.\n",
        "- It's often a good idea to give the zipfile a name that reflects the terrain, e.g. grand_canyon.zipfile\n",
        "- Set zip_file_name to the name of your zipfile. Dot not add the .zip extension, this will be done automatically\n",
        "- With Jupyterlab, right click on the zip file and choose Download from the pulldown"
      ]
    },
    {
      "cell_type": "code",
      "execution_count": 20,
      "metadata": {
        "id": "AxNmSuDs-yDf",
        "colab": {
          "base_uri": "https://localhost:8080/",
          "height": 17
        },
        "outputId": "56955a5e-5076-4dd9-d9a1-9179b448cbd3"
      },
      "outputs": [
        {
          "output_type": "display_data",
          "data": {
            "text/plain": [
              "<IPython.core.display.HTML object>"
            ],
            "text/html": [
              "\n",
              "            <style>\n",
              "                .geemap-dark {\n",
              "                    --jp-widgets-color: white;\n",
              "                    --jp-widgets-label-color: white;\n",
              "                    --jp-ui-font-color1: white;\n",
              "                    --jp-layout-color2: #454545;\n",
              "                    background-color: #383838;\n",
              "                }\n",
              "\n",
              "                .geemap-dark .jupyter-button {\n",
              "                    --jp-layout-color3: #383838;\n",
              "                }\n",
              "\n",
              "                .geemap-colab {\n",
              "                    background-color: var(--colab-primary-surface-color, white);\n",
              "                }\n",
              "\n",
              "                .geemap-colab .jupyter-button {\n",
              "                    --jp-layout-color3: var(--colab-primary-surface-color, white);\n",
              "                }\n",
              "            </style>\n",
              "            "
            ]
          },
          "metadata": {}
        }
      ],
      "source": [
        "args[\"zip_file_name\"] = \"usa_with_interstates\" # terrain model will be inside tmp/myterrain.zip"
      ]
    },
    {
      "cell_type": "markdown",
      "metadata": {
        "id": "JAoYHxPW-yDf"
      },
      "source": [
        "### Other settings\n",
        "- There are several more expert settings which you can skip unless you have specific requirements for more complex operations.\n",
        "- If you're interested, look here: https://github.com/ChHarding/TouchTerrain_for_CAGEO#processing-parameters, then put your code in the cell below and run it.\n",
        "- Here are some examples of possible expert setting.\n",
        "- The syntaxt is always: `args[\"name_of_setting\"] = value_of_setting`\n",
        "  - make sure that name_of setting is always between double quotes (it's a string)\n",
        "  - value_of_setting can be a whole number, a decimal number or some text (text must again be surrounded by double quotes!)\n"
      ]
    },
    {
      "cell_type": "code",
      "execution_count": null,
      "metadata": {
        "id": "lXPJO5rriWWw"
      },
      "outputs": [],
      "source": [
        "# Examples of expert settings:\n",
        "\n",
        "# remove all raster cells that are equal or lower than 0\n",
        "#args[\"ignore_leq\"] = 0\n",
        "\n",
        "# lower raster cells that are equal or lower than 0 by 3 m\n",
        "#args[\"lower_leq\"] = [0, 3]  #[0, 3] is a list with 2 values\n",
        "\n",
        "# set projection to ESPG code 3857 (Web mercator)\n",
        "#args[\"projection\"] = 3857\n",
        "\n",
        "# Switch off border smoothing for models with polygon borders (True by default)\n",
        "#args[\"smooth_borders\"] = False\n",
        "\n",
        "# define a polygon border via lat/long coordinates\n",
        "args[\"poly\"] = {\"type\": \"Polygon\", \"coordinates\": [[[30, 10], [40, 40], [20, 40], [10, 20], [30, 10]]]}  # {} means value is a dictionary\n",
        "\n",
        "# save output as geotiff only\n",
        "#args[\"file_format\"] = \"GeoTiff\"\n",
        "#-------------------------------------------------------------------------------------------\n",
        "\n",
        "# your code here:\n"
      ]
    },
    {
      "cell_type": "markdown",
      "metadata": {
        "id": "jh0gnsiw-fdP"
      },
      "source": [
        "## Print the values for all settings\n",
        "- this can be useful for checking if you forgot to set something"
      ]
    },
    {
      "cell_type": "code",
      "execution_count": 21,
      "metadata": {
        "id": "8ate_0ed-yDg",
        "colab": {
          "base_uri": "https://localhost:8080/",
          "height": 678
        },
        "outputId": "db0ab2f9-8c55-4641-d4aa-b63fc3eb658a"
      },
      "outputs": [
        {
          "output_type": "display_data",
          "data": {
            "text/plain": [
              "<IPython.core.display.HTML object>"
            ],
            "text/html": [
              "\n",
              "            <style>\n",
              "                .geemap-dark {\n",
              "                    --jp-widgets-color: white;\n",
              "                    --jp-widgets-label-color: white;\n",
              "                    --jp-ui-font-color1: white;\n",
              "                    --jp-layout-color2: #454545;\n",
              "                    background-color: #383838;\n",
              "                }\n",
              "\n",
              "                .geemap-dark .jupyter-button {\n",
              "                    --jp-layout-color3: #383838;\n",
              "                }\n",
              "\n",
              "                .geemap-colab {\n",
              "                    background-color: var(--colab-primary-surface-color, white);\n",
              "                }\n",
              "\n",
              "                .geemap-colab .jupyter-button {\n",
              "                    --jp-layout-color3: var(--colab-primary-surface-color, white);\n",
              "                }\n",
              "            </style>\n",
              "            "
            ]
          },
          "metadata": {}
        },
        {
          "output_type": "stream",
          "name": "stdout",
          "text": [
            "DEM_name USGS/3DEP/10m\n",
            "bllat 39.32205105794382\n",
            "bllon -120.37497608519418\n",
            "trlat 39.45763749030933\n",
            "trlon -120.2002248034559\n",
            "importedDEM None\n",
            "printres 0.4\n",
            "ntilesx 3\n",
            "ntilesy 1\n",
            "tilewidth 100\n",
            "basethick 0.6\n",
            "zscale -20\n",
            "fileformat STLb\n",
            "tile_centered False\n",
            "zip_file_name usa_with_interstates\n",
            "CPU_cores_to_use None\n",
            "max_cells_for_memory_only 25000000\n",
            "no_bottom False\n",
            "bottom_image None\n",
            "ignore_leq None\n",
            "lower_leq None\n",
            "unprojected False\n",
            "only None\n",
            "importedGPX ['/content/drive/MyDrive/us_interstates_simplified.gpx']\n",
            "smooth_borders True\n",
            "offset_masks_lower None\n",
            "fill_holes None\n",
            "poly_file usa.kml\n",
            "min_elev None\n",
            "tilewidth_scale None\n",
            "clean_diags False\n",
            "sqrt False\n",
            "use_geo_coords None\n",
            "gpxPathHeight 10\n",
            "gpxPixelsBetweenPoints 40\n",
            "gpxPathThickness 500\n",
            "polygon None\n"
          ]
        }
      ],
      "source": [
        "for name in args:\n",
        "    print(name, args[name])"
      ]
    },
    {
      "cell_type": "markdown",
      "metadata": {
        "id": "LaaY7L3M-yDg"
      },
      "source": [
        "## Generating the STL model file\n",
        "- Running the next cell will convert the DEM (either from a local geotiff file or from a Google Earth online DEM source) into STL file and put it inside a zipfile in the tmp folder. You will also get a log file and the geotiff that was processed.\n",
        "- This may take some time and the tmp folder may not show up immediately after the cell finishes.\n",
        "- During processing you'll see messages. Those messages will also be in the logfile inside the zip, and may be useful later."
      ]
    },
    {
      "cell_type": "code",
      "execution_count": 22,
      "metadata": {
        "id": "bct9ovF_-yDg",
        "colab": {
          "base_uri": "https://localhost:8080/",
          "height": 1000
        },
        "outputId": "69423ce6-e844-471c-8777-1467c380a219"
      },
      "outputs": [
        {
          "output_type": "display_data",
          "data": {
            "text/plain": [
              "<IPython.core.display.HTML object>"
            ],
            "text/html": [
              "\n",
              "            <style>\n",
              "                .geemap-dark {\n",
              "                    --jp-widgets-color: white;\n",
              "                    --jp-widgets-label-color: white;\n",
              "                    --jp-ui-font-color1: white;\n",
              "                    --jp-layout-color2: #454545;\n",
              "                    background-color: #383838;\n",
              "                }\n",
              "\n",
              "                .geemap-dark .jupyter-button {\n",
              "                    --jp-layout-color3: #383838;\n",
              "                }\n",
              "\n",
              "                .geemap-colab {\n",
              "                    background-color: var(--colab-primary-surface-color, white);\n",
              "                }\n",
              "\n",
              "                .geemap-colab .jupyter-button {\n",
              "                    --jp-layout-color3: var(--colab-primary-surface-color, white);\n",
              "                }\n",
              "            </style>\n",
              "            "
            ]
          },
          "metadata": {}
        },
        {
          "output_type": "stream",
          "name": "stderr",
          "text": [
            "INFO:root:Read file KML polygon with 60030 points from usa.kml\n",
            "INFO:root:Log for creating 3D model tile(s) for  10m_-95.84_37.14 \n",
            " \n",
            "INFO:root:DEM_name = USGS/3DEP/10m \n",
            "INFO:root:trlat = 49.62922804 \n",
            "INFO:root:trlon = -66.37206221 \n",
            "INFO:root:bllat = 24.65248396 \n",
            "INFO:root:bllon = -125.31100679000001 \n",
            "INFO:root:printres = 0.4 \n",
            "INFO:root:ntilesx = 3 \n",
            "INFO:root:ntilesy = 1 \n",
            "INFO:root:tilewidth = 100 \n",
            "INFO:root:basethick = 0 \n",
            "INFO:root:zscale = -20 \n",
            "INFO:root:fileformat = STLb \n",
            "INFO:root:no_bottom = False \n",
            "INFO:root:unprojected = False \n",
            "INFO:root:no_normals = True \n",
            "INFO:root:\n",
            "process started: 15:25:45.837424 \n",
            "INFO:root:\n",
            "Region (lat/lon):\n",
            "   49.62922804 -66.37206221 (top right)\n",
            "   24.65248396 -125.31100679000001 (bottom left) \n",
            "INFO:root:center at [-95.8415345, 37.140856]  UTM 15 N ,  EPSG:32615 \n",
            "INFO:root:lon/lat size in degrees: [58.93894458000001, 24.97674408] \n",
            "INFO:google.auth.compute_engine._metadata:Compute Engine Metadata server call to universe/universe_domain returned 404, reason: \n"
          ]
        },
        {
          "output_type": "stream",
          "name": "stdout",
          "text": [
            "Log for creating 3D model tile(s) for  10m_-95.84_37.14 \n",
            " \n",
            "DEM_name = USGS/3DEP/10m \n",
            "trlat = 49.62922804 \n",
            "trlon = -66.37206221 \n",
            "bllat = 24.65248396 \n",
            "bllon = -125.31100679000001 \n",
            "printres = 0.4 \n",
            "ntilesx = 3 \n",
            "ntilesy = 1 \n",
            "tilewidth = 100 \n",
            "basethick = 0 \n",
            "zscale = -20 \n",
            "fileformat = STLb \n",
            "no_bottom = False \n",
            "unprojected = False \n",
            "no_normals = True \n",
            "\n",
            "process started: 15:25:45.837424 \n",
            "\n",
            "Region (lat/lon):\n",
            "   49.62922804 -66.37206221 (top right)\n",
            "   24.65248396 -125.31100679000001 (bottom left) \n",
            "center at [-95.8415345, 37.140856]  UTM 15 N ,  EPSG:32615 \n",
            "lon/lat size in degrees: [58.93894458000001, 24.97674408] \n",
            "requesting 6982.0786000080825 m resolution from EarthEngine\n"
          ]
        },
        {
          "output_type": "stream",
          "name": "stderr",
          "text": [
            "INFO:root:Earth Engine raster: USGS/3DEP/10m \n"
          ]
        },
        {
          "output_type": "stream",
          "name": "stdout",
          "text": [
            "Earth Engine raster: USGS/3DEP/10m \n"
          ]
        },
        {
          "output_type": "stream",
          "name": "stderr",
          "text": [
            "INFO:root:URL for geotiff is:  https://earthengine.googleapis.com/v1/projects/touchterrain-bscholer/thumbnails/f5701b32b25f78230703a681032e9ffb-c5fc95a2969b3d30d64b4e8513e43695:getPixels \n"
          ]
        },
        {
          "output_type": "stream",
          "name": "stdout",
          "text": [
            "URL for geotiff is:  https://earthengine.googleapis.com/v1/projects/touchterrain-bscholer/thumbnails/f5701b32b25f78230703a681032e9ffb-c5fc95a2969b3d30d64b4e8513e43695:getPixels \n"
          ]
        },
        {
          "output_type": "stream",
          "name": "stderr",
          "text": [
            "INFO:root: geotiff size: 0.5857315063476562 Mb \n",
            "INFO:root: cell size 6982.0786000080825 m, upper left corner (x/y):  -2890580.540403346 6018551.753206967 \n",
            "INFO:root:process gpx file: /content/drive/MyDrive/us_interstates_simplified.gpx \n"
          ]
        },
        {
          "output_type": "stream",
          "name": "stdout",
          "text": [
            " geotiff size: 0.5857315063476562 Mb \n",
            " cell size 6982.0786000080825 m, upper left corner (x/y):  -2890580.540403346 6018551.753206967 \n",
            "process gpx file: /content/drive/MyDrive/us_interstates_simplified.gpx \n"
          ]
        },
        {
          "output_type": "error",
          "ename": "FileNotFoundError",
          "evalue": "[Errno 2] No such file or directory: '/content/drive/MyDrive/us_interstates_simplified.gpx'",
          "traceback": [
            "\u001b[0;31m---------------------------------------------------------------------------\u001b[0m",
            "\u001b[0;31mFileNotFoundError\u001b[0m                         Traceback (most recent call last)",
            "\u001b[0;32m<ipython-input-22-b609f0a8ba2b>\u001b[0m in \u001b[0;36m<cell line: 2>\u001b[0;34m()\u001b[0m\n\u001b[1;32m      1\u001b[0m \u001b[0;31m# create zipfile under tmp with the STL file of the terrain model\u001b[0m\u001b[0;34m\u001b[0m\u001b[0;34m\u001b[0m\u001b[0m\n\u001b[0;32m----> 2\u001b[0;31m \u001b[0mtotalsize\u001b[0m\u001b[0;34m,\u001b[0m \u001b[0mfull_zip_file_name\u001b[0m \u001b[0;34m=\u001b[0m \u001b[0mTouchTerrain\u001b[0m\u001b[0;34m.\u001b[0m\u001b[0mget_zipped_tiles\u001b[0m\u001b[0;34m(\u001b[0m\u001b[0;34m**\u001b[0m\u001b[0margs\u001b[0m\u001b[0;34m)\u001b[0m\u001b[0;34m\u001b[0m\u001b[0;34m\u001b[0m\u001b[0m\n\u001b[0m\u001b[1;32m      3\u001b[0m \u001b[0mprint\u001b[0m\u001b[0;34m(\u001b[0m\u001b[0;34m\"Created zip file\"\u001b[0m\u001b[0;34m,\u001b[0m \u001b[0mfull_zip_file_name\u001b[0m\u001b[0;34m,\u001b[0m  \u001b[0;34m\"%.2f\"\u001b[0m \u001b[0;34m%\u001b[0m \u001b[0mtotalsize\u001b[0m\u001b[0;34m,\u001b[0m \u001b[0;34m\"Mb\"\u001b[0m\u001b[0;34m)\u001b[0m\u001b[0;34m\u001b[0m\u001b[0;34m\u001b[0m\u001b[0m\n",
            "\u001b[0;32m/usr/local/lib/python3.10/dist-packages/touchterrain/common/TouchTerrainEarthEngine.py\u001b[0m in \u001b[0;36mget_zipped_tiles\u001b[0;34m(DEM_name, trlat, trlon, bllat, bllon, polygon, polyURL, poly_file, importedDEM, printres, ntilesx, ntilesy, tilewidth, basethick, zscale, fileformat, tile_centered, CPU_cores_to_use, max_cells_for_memory_only, temp_folder, zip_file_name, no_bottom, bottom_image, ignore_leq, lower_leq, unprojected, only, original_query_string, no_normals, projection, use_geo_coords, importedGPX, gpxPathHeight, gpxPixelsBetweenPoints, gpxPathThickness, map_img_filename, smooth_borders, offset_masks_lower, fill_holes, min_elev, tilewidth_scale, clean_diags, sqrt, **otherargs)\u001b[0m\n\u001b[1;32m   1025\u001b[0m             \u001b[0;32mif\u001b[0m \u001b[0mimportedGPX\u001b[0m \u001b[0;34m!=\u001b[0m \u001b[0;32mNone\u001b[0m \u001b[0;32mand\u001b[0m \u001b[0mimportedGPX\u001b[0m \u001b[0;34m!=\u001b[0m \u001b[0;34m[\u001b[0m\u001b[0;34m]\u001b[0m\u001b[0;34m:\u001b[0m\u001b[0;34m\u001b[0m\u001b[0;34m\u001b[0m\u001b[0m\n\u001b[1;32m   1026\u001b[0m                 \u001b[0;32mfrom\u001b[0m \u001b[0mtouchterrain\u001b[0m\u001b[0;34m.\u001b[0m\u001b[0mcommon\u001b[0m\u001b[0;34m.\u001b[0m\u001b[0mTouchTerrainGPX\u001b[0m \u001b[0;32mimport\u001b[0m \u001b[0maddGPXToModel\u001b[0m\u001b[0;34m\u001b[0m\u001b[0;34m\u001b[0m\u001b[0m\n\u001b[0;32m-> 1027\u001b[0;31m                 addGPXToModel(pr, npim, dem, importedGPX, \n\u001b[0m\u001b[1;32m   1028\u001b[0m                               \u001b[0mgpxPathHeight\u001b[0m\u001b[0;34m,\u001b[0m \u001b[0mgpxPixelsBetweenPoints\u001b[0m\u001b[0;34m,\u001b[0m \u001b[0mgpxPathThickness\u001b[0m\u001b[0;34m,\u001b[0m\u001b[0;34m\u001b[0m\u001b[0;34m\u001b[0m\u001b[0m\n\u001b[1;32m   1029\u001b[0m                               trlat, trlon, bllat, bllon) \n",
            "\u001b[0;32m/usr/local/lib/python3.10/dist-packages/touchterrain/common/TouchTerrainGPX.py\u001b[0m in \u001b[0;36maddGPXToModel\u001b[0;34m(pr, npim, dem, importedGPX, gpxPathHeight, gpxPixelsBetweenPoints, gpxPathThickness, trlat, trlon, bllat, bllon)\u001b[0m\n\u001b[1;32m    259\u001b[0m \u001b[0;34m\u001b[0m\u001b[0m\n\u001b[1;32m    260\u001b[0m         \u001b[0;31m# parse file for points and tracks\u001b[0m\u001b[0;34m\u001b[0m\u001b[0;34m\u001b[0m\u001b[0m\n\u001b[0;32m--> 261\u001b[0;31m         \u001b[0mtree\u001b[0m \u001b[0;34m=\u001b[0m \u001b[0mET\u001b[0m\u001b[0;34m.\u001b[0m\u001b[0mparse\u001b[0m\u001b[0;34m(\u001b[0m\u001b[0mgpxFile\u001b[0m\u001b[0;34m)\u001b[0m\u001b[0;34m\u001b[0m\u001b[0;34m\u001b[0m\u001b[0m\n\u001b[0m\u001b[1;32m    262\u001b[0m         \u001b[0mroot\u001b[0m \u001b[0;34m=\u001b[0m \u001b[0mtree\u001b[0m\u001b[0;34m.\u001b[0m\u001b[0mgetroot\u001b[0m\u001b[0;34m(\u001b[0m\u001b[0;34m)\u001b[0m\u001b[0;34m\u001b[0m\u001b[0;34m\u001b[0m\u001b[0m\n\u001b[1;32m    263\u001b[0m         \u001b[0mpoints\u001b[0m \u001b[0;34m=\u001b[0m \u001b[0mroot\u001b[0m\u001b[0;34m.\u001b[0m\u001b[0mfind\u001b[0m\u001b[0;34m(\u001b[0m\u001b[0;34m'{http://www.topografix.com/GPX/1/1}trk/{http://www.topografix.com/GPX/1/1}trkseg'\u001b[0m\u001b[0;34m)\u001b[0m\u001b[0;34m\u001b[0m\u001b[0;34m\u001b[0m\u001b[0m\n",
            "\u001b[0;32m/usr/lib/python3.10/xml/etree/ElementTree.py\u001b[0m in \u001b[0;36mparse\u001b[0;34m(source, parser)\u001b[0m\n\u001b[1;32m   1220\u001b[0m     \"\"\"\n\u001b[1;32m   1221\u001b[0m     \u001b[0mtree\u001b[0m \u001b[0;34m=\u001b[0m \u001b[0mElementTree\u001b[0m\u001b[0;34m(\u001b[0m\u001b[0;34m)\u001b[0m\u001b[0;34m\u001b[0m\u001b[0;34m\u001b[0m\u001b[0m\n\u001b[0;32m-> 1222\u001b[0;31m     \u001b[0mtree\u001b[0m\u001b[0;34m.\u001b[0m\u001b[0mparse\u001b[0m\u001b[0;34m(\u001b[0m\u001b[0msource\u001b[0m\u001b[0;34m,\u001b[0m \u001b[0mparser\u001b[0m\u001b[0;34m)\u001b[0m\u001b[0;34m\u001b[0m\u001b[0;34m\u001b[0m\u001b[0m\n\u001b[0m\u001b[1;32m   1223\u001b[0m     \u001b[0;32mreturn\u001b[0m \u001b[0mtree\u001b[0m\u001b[0;34m\u001b[0m\u001b[0;34m\u001b[0m\u001b[0m\n\u001b[1;32m   1224\u001b[0m \u001b[0;34m\u001b[0m\u001b[0m\n",
            "\u001b[0;32m/usr/lib/python3.10/xml/etree/ElementTree.py\u001b[0m in \u001b[0;36mparse\u001b[0;34m(self, source, parser)\u001b[0m\n\u001b[1;32m    567\u001b[0m         \u001b[0mclose_source\u001b[0m \u001b[0;34m=\u001b[0m \u001b[0;32mFalse\u001b[0m\u001b[0;34m\u001b[0m\u001b[0;34m\u001b[0m\u001b[0m\n\u001b[1;32m    568\u001b[0m         \u001b[0;32mif\u001b[0m \u001b[0;32mnot\u001b[0m \u001b[0mhasattr\u001b[0m\u001b[0;34m(\u001b[0m\u001b[0msource\u001b[0m\u001b[0;34m,\u001b[0m \u001b[0;34m\"read\"\u001b[0m\u001b[0;34m)\u001b[0m\u001b[0;34m:\u001b[0m\u001b[0;34m\u001b[0m\u001b[0;34m\u001b[0m\u001b[0m\n\u001b[0;32m--> 569\u001b[0;31m             \u001b[0msource\u001b[0m \u001b[0;34m=\u001b[0m \u001b[0mopen\u001b[0m\u001b[0;34m(\u001b[0m\u001b[0msource\u001b[0m\u001b[0;34m,\u001b[0m \u001b[0;34m\"rb\"\u001b[0m\u001b[0;34m)\u001b[0m\u001b[0;34m\u001b[0m\u001b[0;34m\u001b[0m\u001b[0m\n\u001b[0m\u001b[1;32m    570\u001b[0m             \u001b[0mclose_source\u001b[0m \u001b[0;34m=\u001b[0m \u001b[0;32mTrue\u001b[0m\u001b[0;34m\u001b[0m\u001b[0;34m\u001b[0m\u001b[0m\n\u001b[1;32m    571\u001b[0m         \u001b[0;32mtry\u001b[0m\u001b[0;34m:\u001b[0m\u001b[0;34m\u001b[0m\u001b[0;34m\u001b[0m\u001b[0m\n",
            "\u001b[0;31mFileNotFoundError\u001b[0m: [Errno 2] No such file or directory: '/content/drive/MyDrive/us_interstates_simplified.gpx'"
          ]
        }
      ],
      "source": [
        "# create zipfile under tmp with the STL file of the terrain model\n",
        "totalsize, full_zip_file_name = TouchTerrain.get_zipped_tiles(**args)\n",
        "print(\"Created zip file\", full_zip_file_name,  \"%.2f\" % totalsize, \"Mb\")"
      ]
    },
    {
      "cell_type": "markdown",
      "metadata": {
        "id": "0gb3YtSXlqSg"
      },
      "source": [
        "## Unzip the zip file\n",
        "- This will unzip the zip file created earlier in a folder with the same name\n",
        "- This makes it easier quickly look into the logfile in colab (just double-click on it) or to directly download the STL (Right-click - Download)\n",
        "- The original zip file is still there, in case you want to download it\n"
      ]
    },
    {
      "cell_type": "code",
      "execution_count": null,
      "metadata": {
        "id": "MuhQXwFnlpMV"
      },
      "outputs": [],
      "source": [
        "folder, file = os.path.splitext(full_zip_file_name) # get folder of zip file\n",
        "\n",
        "# unzip the zipfile into the folder it's already in\n",
        "import zipfile\n",
        "zip_ref = zipfile.ZipFile(full_zip_file_name, 'r')\n",
        "zip_ref.extractall(folder)\n",
        "zip_ref.close()\n",
        "print (\"unzipped files from\", full_zip_file_name, \"into the folder\", folder)\n",
        "print (folder, \"contains these files:\")\n",
        "for f in glob(folder + os.sep + \"*.*\"): print(\" \", f)"
      ]
    },
    {
      "cell_type": "markdown",
      "metadata": {
        "id": "5uPA1pGk-yDg"
      },
      "source": [
        "## Final thoughts\n",
        "- Sadly k3d doesn't seem to work in Colab, so you cannot preview your model here :(\n",
        "- To download your file(s): Click on the *Files* icon on the very left to your notebook and then double-click on _tmp_\n",
        "- Right-click on the the zip-file or a file in the folder you unzipped to and go to Download\n",
        "- To preview your stl file, you could use use this <a href=\"https://stlviewer.kwebpia.net/\" target=\"_blank\">Online viewer</a>. Just drop your downloaded stl file into it.\n",
        "- (Disclaimer: I'm not affiliated with them and there may be other/better viewers out there. On Windows an app called __3D Builder__ seems to work well.)\n"
      ]
    },
    {
      "cell_type": "code",
      "execution_count": null,
      "metadata": {
        "id": "Kdj6c-HVxW3Y"
      },
      "outputs": [],
      "source": []
    }
  ],
  "metadata": {
    "colab": {
      "provenance": [],
      "include_colab_link": true
    },
    "kernelspec": {
      "display_name": "Python 3.10.6 64-bit",
      "language": "python",
      "name": "python3"
    },
    "language_info": {
      "codemirror_mode": {
        "name": "ipython",
        "version": 3
      },
      "file_extension": ".py",
      "mimetype": "text/x-python",
      "name": "python",
      "nbconvert_exporter": "python",
      "pygments_lexer": "ipython3",
      "version": "3.10.9"
    },
    "varInspector": {
      "cols": {
        "lenName": 16,
        "lenType": 16,
        "lenVar": 40
      },
      "kernels_config": {
        "python": {
          "delete_cmd_postfix": "",
          "delete_cmd_prefix": "del ",
          "library": "var_list.py",
          "varRefreshCmd": "print(var_dic_list())"
        },
        "r": {
          "delete_cmd_postfix": ") ",
          "delete_cmd_prefix": "rm(",
          "library": "var_list.r",
          "varRefreshCmd": "cat(var_dic_list()) "
        }
      },
      "types_to_exclude": [
        "module",
        "function",
        "builtin_function_or_method",
        "instance",
        "_Feature"
      ],
      "window_display": false
    },
    "vscode": {
      "interpreter": {
        "hash": "b1be0222797457612977eb3eaa00946922d56583fa52c09202534133b3ce7849"
      }
    }
  },
  "nbformat": 4,
  "nbformat_minor": 0
}